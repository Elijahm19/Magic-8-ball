{
 "cells": [
  {
   "cell_type": "code",
   "execution_count": 2,
   "id": "5f61187c",
   "metadata": {},
   "outputs": [
    {
     "name": "stdout",
     "output_type": "stream",
     "text": [
      "Enter in your name:Elijah\n",
      "8\n",
      "Elijah asks Does Halo exist?\n",
      "Magic 8-Balls's answer: Outlook not so good.\n",
      "Elijah asks again Does Halo exist?\n",
      "Magic 8-balls answer: Outlook not so good.\n"
     ]
    }
   ],
   "source": [
    "# Magic 8-ball \n",
    "name = input(\"Enter in your name:\" )\n",
    "\n",
    "# Question which will be either yes or no\n",
    "question = \" Does Halo exist?\"\n",
    "\n",
    "# answer to question\n",
    "answer = \" \"\n",
    "\n",
    "# import random for random variables\n",
    "import random \n",
    "\n",
    "random_number = random.randint(1, 10)\n",
    "print(random_number)\n",
    "\n",
    "# if statements for numbers picked\n",
    "if random_number == 1: \n",
    "  answer = \" Yes - definitely.\"\n",
    "elif random_number == 2: \n",
    "  answer =\" It is decidely so.\"\n",
    "elif random_number == 3:\n",
    "  answer = \" Without a doubt.\"\n",
    "elif random_number == 4:\n",
    "  answer = \" Reply hazy, try again.\"\n",
    "elif random_number == 5:\n",
    "  answer = \" Ask again later.\"\n",
    "elif random_number == 6:\n",
    "  answer = \" Better not tell you now.\"\n",
    "elif random_number == 7:\n",
    "  answer = \" My sources say no.\"\n",
    "elif random_number == 8:\n",
    "  answer = \" Outlook not so good.\"\n",
    "elif random_number == 9:\n",
    "  answer = \" Very doubtful.\"\n",
    "  # Throws error\n",
    "elif random_number == 10:\n",
    "  answer = \"Error, out of range\"\n",
    "\n",
    "print(name + \" asks\" + question)\n",
    "\n",
    "print(\"Magic 8-Balls's answer:\"+ answer)\n",
    "\n",
    "if len(name) == 0:\n",
    "  print(\"Name is empty\")\n",
    "\n",
    "else: \n",
    "  print(name + \" asks again\" + question)\n",
    "\n",
    "if len(question) == 0:\n",
    "  print(\" Magic 8-ball cannot provide an answer\")\n",
    "\n",
    "else:\n",
    "  print(\"Magic 8-balls answer:\" + answer)"
   ]
  },
  {
   "cell_type": "code",
   "execution_count": null,
   "id": "a27b6837",
   "metadata": {},
   "outputs": [],
   "source": []
  }
 ],
 "metadata": {
  "kernelspec": {
   "display_name": "Python 3",
   "language": "python",
   "name": "python3"
  },
  "language_info": {
   "codemirror_mode": {
    "name": "ipython",
    "version": 3
   },
   "file_extension": ".py",
   "mimetype": "text/x-python",
   "name": "python",
   "nbconvert_exporter": "python",
   "pygments_lexer": "ipython3",
   "version": "3.8.8"
  }
 },
 "nbformat": 4,
 "nbformat_minor": 5
}
